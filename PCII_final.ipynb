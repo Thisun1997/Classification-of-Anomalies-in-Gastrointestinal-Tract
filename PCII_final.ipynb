{
  "nbformat": 4,
  "nbformat_minor": 0,
  "metadata": {
    "colab": {
      "name": "Copy of PCII_final.ipynb",
      "provenance": [],
      "collapsed_sections": [],
      "include_colab_link": true
    },
    "kernelspec": {
      "name": "python3",
      "display_name": "Python 3"
    },
    "accelerator": "GPU"
  },
  "cells": [
    {
      "cell_type": "markdown",
      "metadata": {
        "id": "view-in-github",
        "colab_type": "text"
      },
      "source": [
        "<a href=\"https://colab.research.google.com/github/Thisun1997/Classification-of-Anomalies-in-Gastrointestinal-Tract/blob/master/PCII_final.ipynb\" target=\"_parent\"><img src=\"https://colab.research.google.com/assets/colab-badge.svg\" alt=\"Open In Colab\"/></a>"
      ]
    },
    {
      "cell_type": "code",
      "metadata": {
        "id": "uUOhcP8MVHxq",
        "colab_type": "code",
        "colab": {}
      },
      "source": [
        "!wget https://datasets.simula.no/kvasir/data/kvasir-dataset-v2.zip\n",
        "!unzip -q \"/content/kvasir-dataset-v2.zip\" -d /content/\n"
      ],
      "execution_count": null,
      "outputs": []
    },
    {
      "cell_type": "code",
      "metadata": {
        "id": "ErnA_NYRYVre",
        "colab_type": "code",
        "colab": {}
      },
      "source": [
        "import numpy as np\n",
        "import keras\n",
        "from keras import backend as K\n",
        "from keras.models import Sequential\n",
        "from keras.layers import Activation\n",
        "from keras.layers import Dropout\n",
        "from tqdm import tqdm\n",
        "from keras.layers.core import Dense, Flatten\n",
        "from keras.optimizers import Adam\n",
        "from keras.metrics import categorical_crossentropy\n",
        "from keras.preprocessing.image import ImageDataGenerator\n",
        "from keras.layers.normalization import BatchNormalization\n",
        "from keras.layers.convolutional import *\n",
        "from matplotlib import pyplot as plt\n",
        "from sklearn.metrics import confusion_matrix\n",
        "import itertools\n",
        "import matplotlib.pyplot as plt\n",
        "from keras import models\n",
        "from keras import layers\n",
        "from keras import optimizers"
      ],
      "execution_count": null,
      "outputs": []
    },
    {
      "cell_type": "code",
      "metadata": {
        "id": "woty_nGDeswt",
        "colab_type": "code",
        "colab": {}
      },
      "source": [
        "image_size = 224"
      ],
      "execution_count": null,
      "outputs": []
    },
    {
      "cell_type": "code",
      "metadata": {
        "id": "9gqPOAT5QFcY",
        "colab_type": "code",
        "colab": {
          "base_uri": "https://localhost:8080/",
          "height": 34
        },
        "outputId": "7f0368bf-0d4e-46c5-ceb0-1e47dd848888"
      },
      "source": [
        "from google.colab import drive\n",
        "drive.mount('/content/drive')"
      ],
      "execution_count": null,
      "outputs": [
        {
          "output_type": "stream",
          "text": [
            "Drive already mounted at /content/drive; to attempt to forcibly remount, call drive.mount(\"/content/drive\", force_remount=True).\n"
          ],
          "name": "stdout"
        }
      ]
    },
    {
      "cell_type": "code",
      "metadata": {
        "id": "TNDT5-tefaUR",
        "colab_type": "code",
        "colab": {}
      },
      "source": [
        "from keras.applications import VGG19\n",
        "\n",
        "# pre trained model\n",
        "pre_model = VGG19(weights='imagenet', include_top=False, input_shape=(image_size, image_size, 3))"
      ],
      "execution_count": null,
      "outputs": []
    },
    {
      "cell_type": "code",
      "metadata": {
        "id": "oa_1toIxfcC3",
        "colab_type": "code",
        "colab": {
          "base_uri": "https://localhost:8080/",
          "height": 386
        },
        "outputId": "53393922-2862-4d49-ab98-1fce642add37"
      },
      "source": [
        "# # only train last layer\n",
        "for layer in pre_model.layers[:-5]:\n",
        "    layer.trainable = False\n",
        "    \n",
        "for layer in pre_model.layers:\n",
        "  print(layer, layer.trainable)"
      ],
      "execution_count": null,
      "outputs": [
        {
          "output_type": "stream",
          "text": [
            "<keras.engine.input_layer.InputLayer object at 0x7f06e39746a0> False\n",
            "<keras.layers.convolutional.Conv2D object at 0x7f06e3974630> False\n",
            "<keras.layers.convolutional.Conv2D object at 0x7f06f178b9b0> False\n",
            "<keras.layers.pooling.MaxPooling2D object at 0x7f06d4359160> False\n",
            "<keras.layers.convolutional.Conv2D object at 0x7f06d4360898> False\n",
            "<keras.layers.convolutional.Conv2D object at 0x7f06d4366978> False\n",
            "<keras.layers.pooling.MaxPooling2D object at 0x7f06d436b6d8> False\n",
            "<keras.layers.convolutional.Conv2D object at 0x7f06d437a710> False\n",
            "<keras.layers.convolutional.Conv2D object at 0x7f06d437af28> False\n",
            "<keras.layers.convolutional.Conv2D object at 0x7f06d4382e10> False\n",
            "<keras.layers.convolutional.Conv2D object at 0x7f06d41045f8> False\n",
            "<keras.layers.pooling.MaxPooling2D object at 0x7f06d410f5f8> False\n",
            "<keras.layers.convolutional.Conv2D object at 0x7f06d4118630> False\n",
            "<keras.layers.convolutional.Conv2D object at 0x7f06d411e7b8> False\n",
            "<keras.layers.convolutional.Conv2D object at 0x7f06d4124518> False\n",
            "<keras.layers.convolutional.Conv2D object at 0x7f06d4130550> False\n",
            "<keras.layers.pooling.MaxPooling2D object at 0x7f06d41377b8> False\n",
            "<keras.layers.convolutional.Conv2D object at 0x7f06d40c67f0> True\n",
            "<keras.layers.convolutional.Conv2D object at 0x7f06d40c6e10> True\n",
            "<keras.layers.convolutional.Conv2D object at 0x7f06d40cce80> True\n",
            "<keras.layers.convolutional.Conv2D object at 0x7f06d40da898> True\n",
            "<keras.layers.pooling.MaxPooling2D object at 0x7f06d40e50b8> True\n"
          ],
          "name": "stdout"
        }
      ]
    },
    {
      "cell_type": "code",
      "metadata": {
        "id": "MXyMASmuZPw0",
        "colab_type": "code",
        "colab": {
          "base_uri": "https://localhost:8080/",
          "height": 403
        },
        "outputId": "82ceef2d-b868-4299-e876-ea3786718c65"
      },
      "source": [
        "model = models.Sequential()\n",
        "\n",
        "model.add(pre_model)\n",
        "\n",
        "model.add(Conv2D(1024, (3,3), activation='relu'))\n",
        "model.add(MaxPooling2D(pool_size = (2,2)))\n",
        "model.add(Flatten())\n",
        "model.add(Dense(2048, activation='relu'))\n",
        "model.add(Dropout(0.6))\n",
        "model.add(Dense(8, activation='softmax')) \n",
        "\n",
        "model.summary()"
      ],
      "execution_count": null,
      "outputs": [
        {
          "output_type": "stream",
          "text": [
            "WARNING:tensorflow:Large dropout rate: 0.6 (>0.5). In TensorFlow 2.x, dropout() uses dropout rate instead of keep_prob. Please ensure that this is intended.\n",
            "Model: \"sequential_2\"\n",
            "_________________________________________________________________\n",
            "Layer (type)                 Output Shape              Param #   \n",
            "=================================================================\n",
            "vgg19 (Model)                (None, 7, 7, 512)         20024384  \n",
            "_________________________________________________________________\n",
            "conv2d_2 (Conv2D)            (None, 5, 5, 1024)        4719616   \n",
            "_________________________________________________________________\n",
            "max_pooling2d_2 (MaxPooling2 (None, 2, 2, 1024)        0         \n",
            "_________________________________________________________________\n",
            "flatten_2 (Flatten)          (None, 4096)              0         \n",
            "_________________________________________________________________\n",
            "dense_3 (Dense)              (None, 2048)              8390656   \n",
            "_________________________________________________________________\n",
            "dropout_2 (Dropout)          (None, 2048)              0         \n",
            "_________________________________________________________________\n",
            "dense_4 (Dense)              (None, 8)                 16392     \n",
            "=================================================================\n",
            "Total params: 33,151,048\n",
            "Trainable params: 22,565,896\n",
            "Non-trainable params: 10,585,152\n",
            "_________________________________________________________________\n"
          ],
          "name": "stdout"
        }
      ]
    },
    {
      "cell_type": "code",
      "metadata": {
        "id": "yljwlcYCaNov",
        "colab_type": "code",
        "colab": {
          "base_uri": "https://localhost:8080/",
          "height": 50
        },
        "outputId": "5ebed825-8746-4c71-af70-7b1cd3508228"
      },
      "source": [
        "# load data\n",
        "data_dir = 'kvasir-dataset-v2'\n",
        "\n",
        "from keras.preprocessing.image import ImageDataGenerator\n",
        "\n",
        "data_gen = ImageDataGenerator(\n",
        "    rescale=1./255,\n",
        "    rotation_range=20,\n",
        "    width_shift_range=0.2,\n",
        "    height_shift_range=0.2,\n",
        "    horizontal_flip=True,\n",
        "    fill_mode='nearest',\n",
        "    validation_split=0.125)\n",
        "\n",
        "n_batch_train = 100\n",
        "n_batch_val = 10\n",
        "\n",
        "train_gen = data_gen.flow_from_directory(\n",
        "    data_dir,\n",
        "    target_size=(image_size, image_size),\n",
        "    batch_size=n_batch_train,\n",
        "    class_mode='categorical',\n",
        "    seed=15,\n",
        "    shuffle=True,\n",
        "    subset='training')\n",
        "\n",
        "val_gen = data_gen.flow_from_directory(\n",
        "    data_dir,\n",
        "    target_size=(image_size, image_size),\n",
        "    batch_size=n_batch_val,\n",
        "    class_mode='categorical',\n",
        "    seed=15,\n",
        "    shuffle=True,\n",
        "    subset='validation')"
      ],
      "execution_count": null,
      "outputs": [
        {
          "output_type": "stream",
          "text": [
            "Found 7000 images belonging to 8 classes.\n",
            "Found 1000 images belonging to 8 classes.\n"
          ],
          "name": "stdout"
        }
      ]
    },
    {
      "cell_type": "code",
      "metadata": {
        "id": "xk4mwBOPbRdU",
        "colab_type": "code",
        "colab": {
          "base_uri": "https://localhost:8080/",
          "height": 558
        },
        "outputId": "481fb492-79ef-40b2-a81c-23973842e608"
      },
      "source": [
        "model.compile(loss='categorical_crossentropy',\n",
        "             optimizer=optimizers.RMSprop(lr=2e-5),\n",
        "             metrics=['acc'])\n",
        "\n",
        "history = model.fit_generator(\n",
        "    train_gen,\n",
        "    steps_per_epoch=train_gen.samples/train_gen.batch_size,\n",
        "    epochs=10,\n",
        "    validation_data=val_gen,\n",
        "    validation_steps=val_gen.samples/val_gen.batch_size,\n",
        "    verbose=1)"
      ],
      "execution_count": null,
      "outputs": [
        {
          "output_type": "stream",
          "text": [
            "WARNING:tensorflow:From /usr/local/lib/python3.6/dist-packages/keras/optimizers.py:793: The name tf.train.Optimizer is deprecated. Please use tf.compat.v1.train.Optimizer instead.\n",
            "\n",
            "WARNING:tensorflow:From /usr/local/lib/python3.6/dist-packages/keras/backend/tensorflow_backend.py:3576: The name tf.log is deprecated. Please use tf.math.log instead.\n",
            "\n",
            "WARNING:tensorflow:From /usr/local/lib/python3.6/dist-packages/tensorflow_core/python/ops/math_grad.py:1424: where (from tensorflow.python.ops.array_ops) is deprecated and will be removed in a future version.\n",
            "Instructions for updating:\n",
            "Use tf.where in 2.0, which has the same broadcast rule as np.where\n",
            "WARNING:tensorflow:From /usr/local/lib/python3.6/dist-packages/keras/backend/tensorflow_backend.py:1033: The name tf.assign_add is deprecated. Please use tf.compat.v1.assign_add instead.\n",
            "\n",
            "WARNING:tensorflow:From /usr/local/lib/python3.6/dist-packages/keras/backend/tensorflow_backend.py:1020: The name tf.assign is deprecated. Please use tf.compat.v1.assign instead.\n",
            "\n",
            "Epoch 1/10\n",
            "70/70 [==============================] - 239s 3s/step - loss: 1.4184 - acc: 0.4310 - val_loss: 0.8958 - val_acc: 0.6600\n",
            "Epoch 2/10\n",
            "70/70 [==============================] - 201s 3s/step - loss: 0.8401 - acc: 0.6636 - val_loss: 0.7309 - val_acc: 0.7030\n",
            "Epoch 3/10\n",
            "70/70 [==============================] - 206s 3s/step - loss: 0.6802 - acc: 0.7306 - val_loss: 0.6344 - val_acc: 0.7370\n",
            "Epoch 4/10\n",
            "70/70 [==============================] - 199s 3s/step - loss: 0.5865 - acc: 0.7717 - val_loss: 0.4986 - val_acc: 0.8080\n",
            "Epoch 5/10\n",
            "70/70 [==============================] - 197s 3s/step - loss: 0.5178 - acc: 0.7907 - val_loss: 0.4943 - val_acc: 0.8060\n",
            "Epoch 6/10\n",
            "70/70 [==============================] - 196s 3s/step - loss: 0.4792 - acc: 0.8101 - val_loss: 0.5079 - val_acc: 0.8040\n",
            "Epoch 7/10\n",
            "70/70 [==============================] - 193s 3s/step - loss: 0.4505 - acc: 0.8231 - val_loss: 0.5149 - val_acc: 0.7910\n",
            "Epoch 8/10\n",
            "70/70 [==============================] - 194s 3s/step - loss: 0.4182 - acc: 0.8366 - val_loss: 0.4673 - val_acc: 0.8100\n",
            "Epoch 9/10\n",
            "70/70 [==============================] - 193s 3s/step - loss: 0.4011 - acc: 0.8387 - val_loss: 0.4684 - val_acc: 0.8170\n",
            "Epoch 10/10\n",
            "70/70 [==============================] - 194s 3s/step - loss: 0.3771 - acc: 0.8526 - val_loss: 0.5122 - val_acc: 0.7940\n"
          ],
          "name": "stdout"
        }
      ]
    },
    {
      "cell_type": "code",
      "metadata": {
        "id": "U3JW7Hr1bRhU",
        "colab_type": "code",
        "colab": {}
      },
      "source": [
        ""
      ],
      "execution_count": null,
      "outputs": []
    }
  ]
}